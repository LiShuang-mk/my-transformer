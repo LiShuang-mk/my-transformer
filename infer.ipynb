{
 "cells": [
  {
   "cell_type": "code",
   "execution_count": 82,
   "metadata": {},
   "outputs": [],
   "source": [
    "import torch\n",
    "import time\n",
    "import random\n",
    "from nltk.tokenize import word_tokenize\n",
    "\n",
    "import MyTrans as trans\n",
    "from model import *\n",
    "from utils import *\n",
    "from dataloader import DataSet\n",
    "from tqdm.notebook import tqdm as tqnb"
   ]
  },
  {
   "cell_type": "code",
   "execution_count": 83,
   "metadata": {},
   "outputs": [
    {
     "name": "stdout",
     "output_type": "stream",
     "text": [
      "use cuda\n"
     ]
    }
   ],
   "source": [
    "params = {\n",
    "    \"model_dim\": 64,\n",
    "    \"num_layers\": 2,\n",
    "    \"num_heads\": 8,\n",
    "    \"ff_dim\": 128,\n",
    "    \"dropout\": 0.1,\n",
    "    \"batch_size\": 32,\n",
    "    \"learning_rate\": 0.005,\n",
    "    \"num_epochs\": 100,\n",
    "    \"seed\": 2003,\n",
    "    \"model_path\": \"./models/\",\n",
    "    \"early_stop\": 10,\n",
    "}\n",
    "\n",
    "\n",
    "device = torch.device(\"cuda\" if torch.cuda.is_available() else \"cpu\")\n",
    "print(f\"use {device}\")\n",
    "\n",
    "seed = params[\"seed\"]\n",
    "torch.manual_seed(seed)\n",
    "np.random.seed(seed)\n",
    "random.seed(seed)\n",
    "torch.backends.cudnn.benchmark = False\n",
    "torch.backends.cudnn.deterministic = True\n",
    "if torch.cuda.is_available():\n",
    "    torch.cuda.manual_seed_all(seed)"
   ]
  },
  {
   "cell_type": "code",
   "execution_count": 87,
   "metadata": {},
   "outputs": [
    {
     "name": "stderr",
     "output_type": "stream",
     "text": [
      "/home/lishuang/anaconda3/envs/psc-cpi/lib/python3.12/site-packages/torch/nn/modules/transformer.py:379: UserWarning: enable_nested_tensor is True, but self.use_nested_tensor is False because encoder_layer.norm_first was True\n",
      "  warnings.warn(\n",
      "/tmp/ipykernel_1687889/1094213655.py:19: FutureWarning: You are using `torch.load` with `weights_only=False` (the current default value), which uses the default pickle module implicitly. It is possible to construct malicious pickle data which will execute arbitrary code during unpickling (See https://github.com/pytorch/pytorch/blob/main/SECURITY.md#untrusted-models for more details). In a future release, the default value for `weights_only` will be flipped to `True`. This limits the functions that could be executed during unpickling. Arbitrary objects will no longer be allowed to be loaded via this mode unless they are explicitly allowlisted by the user via `torch.serialization.add_safe_globals`. We recommend you start setting `weights_only=True` for any use case where you don't have full control of the loaded file. Please open an issue on GitHub for any issues related to this experimental feature.\n",
      "  model.load_state_dict(torch.load('./models/model_2024-12-30-22-49-16_2003_e19_d10.pth'))\n"
     ]
    },
    {
     "data": {
      "text/plain": [
       "TransTrans(\n",
       "  (src_emb): TransformerEmbedding(\n",
       "    (tok_emb): Embedding(11971, 64, padding_idx=0)\n",
       "    (pos_emb): PositionalEncoding()\n",
       "    (drop_out): Dropout(p=0.1, inplace=False)\n",
       "  )\n",
       "  (tgt_emb): TransformerEmbedding(\n",
       "    (tok_emb): Embedding(23457, 64, padding_idx=0)\n",
       "    (pos_emb): PositionalEncoding()\n",
       "    (drop_out): Dropout(p=0.1, inplace=False)\n",
       "  )\n",
       "  (transformer): Transformer(\n",
       "    (encoder): TransformerEncoder(\n",
       "      (layers): ModuleList(\n",
       "        (0-1): 2 x TransformerEncoderLayer(\n",
       "          (self_attn): MultiheadAttention(\n",
       "            (out_proj): NonDynamicallyQuantizableLinear(in_features=64, out_features=64, bias=True)\n",
       "          )\n",
       "          (linear1): Linear(in_features=64, out_features=128, bias=True)\n",
       "          (dropout): Dropout(p=0.1, inplace=False)\n",
       "          (linear2): Linear(in_features=128, out_features=64, bias=True)\n",
       "          (norm1): LayerNorm((64,), eps=1e-05, elementwise_affine=True)\n",
       "          (norm2): LayerNorm((64,), eps=1e-05, elementwise_affine=True)\n",
       "          (dropout1): Dropout(p=0.1, inplace=False)\n",
       "          (dropout2): Dropout(p=0.1, inplace=False)\n",
       "        )\n",
       "      )\n",
       "      (norm): LayerNorm((64,), eps=1e-05, elementwise_affine=True)\n",
       "    )\n",
       "    (decoder): TransformerDecoder(\n",
       "      (layers): ModuleList(\n",
       "        (0-1): 2 x TransformerDecoderLayer(\n",
       "          (self_attn): MultiheadAttention(\n",
       "            (out_proj): NonDynamicallyQuantizableLinear(in_features=64, out_features=64, bias=True)\n",
       "          )\n",
       "          (multihead_attn): MultiheadAttention(\n",
       "            (out_proj): NonDynamicallyQuantizableLinear(in_features=64, out_features=64, bias=True)\n",
       "          )\n",
       "          (linear1): Linear(in_features=64, out_features=128, bias=True)\n",
       "          (dropout): Dropout(p=0.1, inplace=False)\n",
       "          (linear2): Linear(in_features=128, out_features=64, bias=True)\n",
       "          (norm1): LayerNorm((64,), eps=1e-05, elementwise_affine=True)\n",
       "          (norm2): LayerNorm((64,), eps=1e-05, elementwise_affine=True)\n",
       "          (norm3): LayerNorm((64,), eps=1e-05, elementwise_affine=True)\n",
       "          (dropout1): Dropout(p=0.1, inplace=False)\n",
       "          (dropout2): Dropout(p=0.1, inplace=False)\n",
       "          (dropout3): Dropout(p=0.1, inplace=False)\n",
       "        )\n",
       "      )\n",
       "      (norm): LayerNorm((64,), eps=1e-05, elementwise_affine=True)\n",
       "    )\n",
       "  )\n",
       "  (final_linear): Linear(in_features=64, out_features=23457, bias=True)\n",
       ")"
      ]
     },
     "execution_count": 87,
     "metadata": {},
     "output_type": "execute_result"
    }
   ],
   "source": [
    "ds = DataSet.from_csv('./data/large_eng_fra.csv')\n",
    "ds.set_split('test')\n",
    "dl = torch.utils.data.DataLoader(ds, batch_size=1, shuffle=False, num_workers=1)\n",
    "\n",
    "model = TransTrans(\n",
    "    src_vocab_size=ds.get_src_vocab_size(),\n",
    "    tgt_vocab_size=ds.get_tgt_vocab_size(),\n",
    "    max_src_len=ds.get_max_src_len(),\n",
    "    max_tgt_len=ds.get_max_tgt_len(),\n",
    "    num_heads=params[\"num_heads\"],\n",
    "    num_encoders=params[\"num_layers\"],\n",
    "    num_decoders=params[\"num_layers\"],\n",
    "    dim_feedforward=params[\"ff_dim\"],\n",
    "    dim_model=params[\"model_dim\"],\n",
    "    device=device,\n",
    "    padding_idx=ds.get_src_vocab().msk_idx,\n",
    "    dropout=params[\"dropout\"],\n",
    ")\n",
    "model.load_state_dict(torch.load('./models/model_2024-12-30-22-49-16_2003_e19_d10.pth'))\n",
    "model.to(device)\n",
    "model.eval()"
   ]
  },
  {
   "cell_type": "code",
   "execution_count": 90,
   "metadata": {},
   "outputs": [
    {
     "data": {
      "application/vnd.jupyter.widget-view+json": {
       "model_id": "765e3ca75e6d4835b5142904073a2f36",
       "version_major": 2,
       "version_minor": 0
      },
      "text/plain": [
       "test:   0%|          | 0/20377 [00:00<?, ?it/s]"
      ]
     },
     "metadata": {},
     "output_type": "display_data"
    },
    {
     "name": "stdout",
     "output_type": "stream",
     "text": [
      "Test Loss: 4.5496, Test Accuracy: 40.69%\n"
     ]
    }
   ],
   "source": [
    "TT = torch.Tensor\n",
    "\n",
    "\n",
    "def normalize_sizes(y_pred: TT, y_true: TT):\n",
    "    if len(y_pred.size()) == 3:\n",
    "        y_pred = y_pred.contiguous().view(-1, y_pred.size(2))\n",
    "    if len(y_true.size()) == 2:\n",
    "        y_true = y_true.contiguous().view(-1)\n",
    "    return y_pred, y_true\n",
    "\n",
    "\n",
    "def compute_loss(y_pred: TT, y_true: TT, mask_idx):\n",
    "    y_pred, y_true = normalize_sizes(y_pred, y_true)\n",
    "    return torch.nn.functional.cross_entropy(y_pred, y_true, ignore_index=mask_idx)\n",
    "\n",
    "\n",
    "def compute_accuracy(y_pred: TT, y_true: TT, mask_index):\n",
    "    y_pred, y_true = normalize_sizes(y_pred, y_true)\n",
    "\n",
    "    _, y_pred_indices = y_pred.max(dim=1)\n",
    "\n",
    "    correct_indices = torch.eq(y_pred_indices, y_true).float()\n",
    "    valid_indices = torch.ne(y_true, mask_index).float()\n",
    "\n",
    "    n_correct = (correct_indices * valid_indices).sum().item()\n",
    "    n_valid = valid_indices.sum().item()\n",
    "\n",
    "    return n_correct / n_valid * 100\n",
    "\n",
    "\n",
    "loss_test, acc_test, batch_test = 0, 0, 0\n",
    "test_bar = tqnb(total=len(dl), desc=\"test\")\n",
    "\n",
    "for data_dict in dl:\n",
    "    x_src = data_dict[\"x_source\"].to(device)\n",
    "    x_tgt = data_dict[\"x_target\"].to(device)\n",
    "    y_tgt = data_dict[\"y_target\"].to(device)\n",
    "    len_x_src = data_dict[\"x_srclen\"].to(device)\n",
    "    len_x_tgt = data_dict[\"x_tgtlen\"].to(device)\n",
    "\n",
    "    with torch.no_grad():\n",
    "        y_pred = model(x_src, x_tgt, len_x_src, len_x_tgt)\n",
    "\n",
    "    loss = compute_loss(y_pred, y_tgt, mask_idx=ds.get_src_vocab().msk_idx)\n",
    "    acc = compute_accuracy(y_pred, y_tgt, mask_index=ds.get_src_vocab().msk_idx)\n",
    "\n",
    "    loss_test += loss.detach().cpu().item()\n",
    "    acc_test += acc\n",
    "\n",
    "    batch_test += 1\n",
    "\n",
    "    test_bar.set_postfix(\n",
    "        loss=loss_test / batch_test,\n",
    "        acc=acc_test / batch_test,\n",
    "    )\n",
    "    test_bar.update()\n",
    "    \n",
    "test_bar.close()\n",
    "\n",
    "print(f\"Test Loss: {loss_test / batch_test:.4f}, Test Accuracy: {acc_test / batch_test:.2f}%\")"
   ]
  },
  {
   "cell_type": "code",
   "execution_count": 88,
   "metadata": {},
   "outputs": [],
   "source": [
    "def infer_target(model: TransTrans, src: str):\n",
    "    src = src.lower()\n",
    "    src_seq = word_tokenize(src)\n",
    "    src_seq = \" \".join(src_seq)\n",
    "    vectorizor = ds.get_vectorizer()\n",
    "    data_dict = vectorizor.vectorize(src_seq, \"\")\n",
    "\n",
    "    x_src: TT = torch.tensor(data_dict[\"source_vector\"]).unsqueeze(0).to(device)\n",
    "    # x_tgt: TT = torch.tensor(data_dict[\"target_x_vector\"]).unsqueeze(0).to(device)\n",
    "    x_tgt: TT = torch.zeros_like(x_src).to(device)\n",
    "    x_tgt[0, :] = vectorizor.tgt_vocab.msk_idx\n",
    "    x_tgt[0, 0] = vectorizor.tgt_vocab.sos_idx\n",
    "    x_src_len: TT = torch.tensor(data_dict[\"source_length\"]).unsqueeze(0).to(device)\n",
    "    x_tgt_len: TT = torch.tensor(1).unsqueeze(0).to(device)\n",
    "    # x_tgt: TT = torch.tensor(data_dict[\"target_x_vector\"]).unsqueeze(0).to(device)\n",
    "    # x_tgt_len: TT = torch.tensor(data_dict[\"target_x_length\"]).unsqueeze(0).to(device)\n",
    "\n",
    "    while x_tgt_len[0] < vectorizor.max_tgt_len:\n",
    "        y = model(x_src, x_tgt, x_src_len, x_tgt_len)\n",
    "        y = torch.argmax(y, dim=-1)\n",
    "        x_tgt[0, x_tgt_len[0]] = y[0, x_tgt_len[0] - 1]\n",
    "        if x_tgt[0, x_tgt_len[0]] == vectorizor.tgt_vocab.eos_idx:\n",
    "            break\n",
    "        x_tgt_len[0] += 1\n",
    "\n",
    "    # y = model(x_src, x_tgt, x_src_len, x_tgt_len)\n",
    "    # y = torch.argmax(y, dim=-1)\n",
    "    # x_tgt = y\n",
    "\n",
    "    y_pred = [\n",
    "        vectorizor.tgt_vocab.lookup_idx(token.item())\n",
    "        for token in x_tgt[0, 1 : x_tgt_len[0]]\n",
    "    ]\n",
    "    return \" \".join(y_pred)\n",
    "\n"
   ]
  },
  {
   "cell_type": "code",
   "execution_count": 89,
   "metadata": {},
   "outputs": [
    {
     "name": "stdout",
     "output_type": "stream",
     "text": [
      "I love you.\n",
      "\tje t'aime .\n",
      "He's out of town\n",
      "\til est hors de la ville .\n",
      "I'm glad you liked it.\n",
      "\tje suis heureux que vous l'ayez apprécié .\n",
      "We're thinking of adding on another bedroom to the house.\n",
      "\tnous sommes en train de rêver .\n"
     ]
    }
   ],
   "source": [
    "\n",
    "src_list = [\n",
    "    \"I love you.\",\n",
    "    \"He's out of town\",\n",
    "    \"I'm glad you liked it.\",\n",
    "    \"We're thinking of adding on another bedroom to the house.\",\n",
    "]\n",
    "\n",
    "for sent in src_list:\n",
    "    targ = infer_target(model, sent)\n",
    "    print(f\"{sent}\")\n",
    "    print(f\"\\t{targ}\")"
   ]
  },
  {
   "cell_type": "code",
   "execution_count": null,
   "metadata": {},
   "outputs": [],
   "source": []
  },
  {
   "cell_type": "code",
   "execution_count": null,
   "metadata": {},
   "outputs": [],
   "source": []
  }
 ],
 "metadata": {
  "kernelspec": {
   "display_name": "psc-cpi",
   "language": "python",
   "name": "python3"
  },
  "language_info": {
   "codemirror_mode": {
    "name": "ipython",
    "version": 3
   },
   "file_extension": ".py",
   "mimetype": "text/x-python",
   "name": "python",
   "nbconvert_exporter": "python",
   "pygments_lexer": "ipython3",
   "version": "3.12.7"
  }
 },
 "nbformat": 4,
 "nbformat_minor": 2
}
