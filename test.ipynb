{
 "cells": [
  {
   "cell_type": "code",
   "execution_count": 1,
   "metadata": {},
   "outputs": [],
   "source": [
    "import MyTrans\n",
    "import torch"
   ]
  },
  {
   "cell_type": "code",
   "execution_count": 2,
   "metadata": {},
   "outputs": [],
   "source": [
    "model = MyTrans.model.Transformer(100, 100, 1000, 512, 6, 8, 2048, \"cpu\")"
   ]
  },
  {
   "cell_type": "code",
   "execution_count": 3,
   "metadata": {},
   "outputs": [
    {
     "name": "stdout",
     "output_type": "stream",
     "text": [
      "tensor([[19, 80, 35, 84, 35, 58, 19,  6, 98, 39,  1, 38,  8,  6, 76, 80, 65,  5,\n",
      "         26, 83, 67, 74, 78, 36, 98, 96, 58, 50, 92, 80, 19, 84, 37, 84, 52, 31,\n",
      "         67, 93,  9, 31, 17, 68,  4, 26,  2, 55, 88, 29, 97,  8]])\n",
      "tensor([[10,  2, 94, 51, 96, 61, 24, 23, 37, 37, 36, 94, 18,  3, 70, 49, 32, 63,\n",
      "         71, 34, 62, 17, 32, 85, 63, 23, 19, 19, 89, 56, 31, 71, 40, 89, 59, 94,\n",
      "         73, 62, 22, 50, 34, 53,  9, 85, 70, 42, 39, 74, 89, 43]])\n"
     ]
    }
   ],
   "source": [
    "src = torch.randint(0,100,(1,50))\n",
    "tgt = torch.randint(0,100,(1,50))\n",
    "print(src)\n",
    "print(tgt)"
   ]
  },
  {
   "cell_type": "code",
   "execution_count": 4,
   "metadata": {},
   "outputs": [
    {
     "name": "stdout",
     "output_type": "stream",
     "text": [
      "tensor([[[0.0096, 0.0082, 0.0127,  ..., 0.0044, 0.0187, 0.0163],\n",
      "         [0.0077, 0.0097, 0.0089,  ..., 0.0046, 0.0192, 0.0157],\n",
      "         [0.0097, 0.0106, 0.0085,  ..., 0.0057, 0.0109, 0.0165],\n",
      "         ...,\n",
      "         [0.0081, 0.0079, 0.0117,  ..., 0.0060, 0.0152, 0.0192],\n",
      "         [0.0096, 0.0095, 0.0118,  ..., 0.0059, 0.0135, 0.0134],\n",
      "         [0.0084, 0.0072, 0.0100,  ..., 0.0056, 0.0147, 0.0144]]],\n",
      "       grad_fn=<SoftmaxBackward0>)\n"
     ]
    }
   ],
   "source": [
    "pred = model(src,tgt)\n",
    "print(pred)"
   ]
  },
  {
   "cell_type": "code",
   "execution_count": 5,
   "metadata": {},
   "outputs": [
    {
     "name": "stdout",
     "output_type": "stream",
     "text": [
      "torch.Size([1, 50, 100])\n"
     ]
    }
   ],
   "source": [
    "print(pred.shape)"
   ]
  },
  {
   "cell_type": "code",
   "execution_count": null,
   "metadata": {},
   "outputs": [],
   "source": []
  }
 ],
 "metadata": {
  "kernelspec": {
   "display_name": "psc-cpi",
   "language": "python",
   "name": "python3"
  },
  "language_info": {
   "codemirror_mode": {
    "name": "ipython",
    "version": 3
   },
   "file_extension": ".py",
   "mimetype": "text/x-python",
   "name": "python",
   "nbconvert_exporter": "python",
   "pygments_lexer": "ipython3",
   "version": "3.12.7"
  }
 },
 "nbformat": 4,
 "nbformat_minor": 2
}
